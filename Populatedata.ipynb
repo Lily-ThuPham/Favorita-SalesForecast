{
 "cells": [
  {
   "cell_type": "markdown",
   "metadata": {},
   "source": [
    "# Enhance the dataset \n",
    "Enhance the dataset to achieve a more realistic data"
   ]
  },
  {
   "cell_type": "markdown",
   "metadata": {},
   "source": [
    "## *Table of Contents*\n",
    "\n",
    "1. [Enhance the original Dataset](#1.-Enhance-the-original-Dataset)\n",
    "    - [1. Enhance the Transaction Table](#1.1-Enhance-Transaction-table)\n",
    "    - [2. Enhance Store Location in \"Stores\" Table](#store_table)\n",
    "    - [3. Enhance Data Complexity for 'Train' Table](#train_table)\n",
    "\n",
    "2. [Extend \"Test\" Table for Forecasting](#test_table)\n",
    "\n"
   ]
  },
  {
   "cell_type": "markdown",
   "metadata": {},
   "source": [
    "## 1. Enhance the original Dataset"
   ]
  },
  {
   "cell_type": "code",
   "execution_count": 9,
   "metadata": {},
   "outputs": [],
   "source": [
    "# Import neccessary libraries \n",
    "import pandas as pd\n",
    "import numpy as np \n",
    "import seaborn as sns \n",
    "\n",
    "import matplotlib.pyplot as plt\n"
   ]
  },
  {
   "cell_type": "markdown",
   "metadata": {},
   "source": [
    "### 1.1 Enhance Transaction table"
   ]
  },
  {
   "cell_type": "code",
   "execution_count": 2,
   "metadata": {},
   "outputs": [],
   "source": [
    "# Import the file \n",
    "# train = pd.read_csv(\"G:/My Drive/Lily Career/Work/Portfolio/Favorita Retails - Sale Forecast/train.csv\",delimiter=\";\")\n",
    "train_df = pd.read_csv(\"G:/My Drive/Lily Career/Work/Portfolio/Favorita Retails - Sale Forecast/train_adjusted.csv\",delimiter=\";\")\n",
    "transactions_df = pd.read_csv(\"G:/My Drive/Lily Career/Work/Portfolio/Favorita Retails - Sale Forecast/transactions.csv\")\n",
    "\n",
    "train_df['date'] = pd.to_datetime(train_df['date'])\n",
    "transactions_df['date'] = pd.to_datetime(transactions_df['date'])"
   ]
  },
  {
   "cell_type": "code",
   "execution_count": 4,
   "metadata": {},
   "outputs": [],
   "source": [
    "# Aggregate sales & promotions at the store level per day\n",
    "promo_sales = train_df[train_df['onpromotion'] > 0].groupby(['date', 'store_nbr'])['sales'].sum().reset_index(name='sales_promo')\n",
    "non_promo_sales = train_df[train_df['onpromotion'] == 0].groupby(['date', 'store_nbr'])['sales'].sum().reset_index(name='sales_nonpromo')\n",
    "\n",
    "# Aggregate the total number of items on promotion per store and date\n",
    "promo_counts = train_df.groupby(['date', 'store_nbr'])['onpromotion'].sum().reset_index(name='total_onpromotion')\n",
    "\n",
    "# Merge promo and sales data into transactions_df\n",
    "transactions_df = transactions_df.merge(promo_counts, on=['date', 'store_nbr'], how='left')\n",
    "transactions_df = transactions_df.merge(promo_sales, on=['date', 'store_nbr'], how='left')\n",
    "transactions_df = transactions_df.merge(non_promo_sales, on=['date', 'store_nbr'], how='left')\n",
    "\n",
    "# Fill missing values (assume 0 if no promo/non-promo sales were recorded)\n",
    "transactions_df[['total_onpromotion', 'sales_promo', 'sales_nonpromo']] = transactions_df[['total_onpromotion', 'sales_promo', 'sales_nonpromo']].fillna(0)\n"
   ]
  },
  {
   "cell_type": "code",
   "execution_count": 6,
   "metadata": {},
   "outputs": [],
   "source": [
    "# Compute a weighted promotion proportion using both number of items promoted and sales\n",
    "transactions_df['promo_proportion'] = (\n",
    "    (transactions_df['total_onpromotion'] + transactions_df['sales_promo']) /\n",
    "    (transactions_df['transactions'] + transactions_df['sales_promo'] + transactions_df['sales_nonpromo'])\n",
    ").clip(0, 1)  # Ensure proportion is within [0,1]"
   ]
  },
  {
   "cell_type": "code",
   "execution_count": 8,
   "metadata": {},
   "outputs": [],
   "source": [
    "# Introduce slight random variation (±5%)\n",
    "np.random.seed(42)\n",
    "transactions_df['promo_proportion'] *= np.random.uniform(0.95, 1.05, len(transactions_df))\n",
    "\n",
    "# Clip values to avoid exceeding bounds due to randomness\n",
    "transactions_df['promo_proportion'] = transactions_df['promo_proportion'].clip(0, 1)\n",
    "\n",
    "# Compute transactions for promoted and non-promoted sales (ensuring integers)\n",
    "transactions_df['transactions_promo'] = (transactions_df['transactions'] * transactions_df['promo_proportion']).round().astype(int)\n",
    "transactions_df['transactions_nonpromo'] = transactions_df['transactions'] - transactions_df['transactions_promo']\n"
   ]
  },
  {
   "cell_type": "code",
   "execution_count": 10,
   "metadata": {},
   "outputs": [],
   "source": [
    "# Create separate rows for promoted and non-promoted transactions\n",
    "promo_rows = transactions_df.copy()\n",
    "promo_rows['promotion_status'] = True\n",
    "promo_rows['transactions'] = promo_rows['transactions_promo']\n",
    "\n",
    "non_promo_rows = transactions_df.copy()\n",
    "non_promo_rows['promotion_status'] = False\n",
    "non_promo_rows['transactions'] = non_promo_rows['transactions_nonpromo']\n",
    "\n",
    "# Combine both datasets\n",
    "transactions_df_final = pd.concat([promo_rows, non_promo_rows], ignore_index=True)\n",
    "\n",
    "# Drop unnecessary columns\n",
    "transactions_df_final = transactions_df_final.drop(columns=['total_onpromotion', 'promo_proportion', 'transactions_promo', 'transactions_nonpromo', 'sales_promo', 'sales_nonpromo'])\n",
    "\n",
    "# Sort and reset index\n",
    "transactions_df_final = transactions_df_final.sort_values(by=['date', 'store_nbr']).reset_index(drop=True)"
   ]
  },
  {
   "cell_type": "code",
   "execution_count": 15,
   "metadata": {},
   "outputs": [],
   "source": [
    "# Adjusted the promo_status column \n",
    "transactions_df_final['promo_status']= transactions_df_final['promotion_status'].apply(lambda x: \"promotion\" if x else \"non-promotion\")\n",
    "transactions_df_final = transactions_df_final.drop(columns=['promotion_status'])"
   ]
  },
  {
   "cell_type": "code",
   "execution_count": 17,
   "metadata": {},
   "outputs": [],
   "source": [
    "transactions_df_final.to_csv('transactions_adjusted.csv',index=False)"
   ]
  },
  {
   "cell_type": "markdown",
   "metadata": {},
   "source": [
    "<a id=\"store_table\"></a>\n",
    "### 1.2. Enhance store location in \"stores\" table\n",
    "Retrieve the corresponding latitude and longitude and state and city in the table. "
   ]
  },
  {
   "cell_type": "code",
   "execution_count": 19,
   "metadata": {},
   "outputs": [],
   "source": [
    "from geopy.geocoders import Nominatim\n",
    "from geopy.exc import GeocoderTimedOut\n",
    "\n",
    "# Load the dataset\n",
    "stores_df = pd.read_csv(\"G:/My Drive/Lily Career/Work/Portfolio/Favorita Retails - Sale Forecast/cleaned_stores.csv\")\n",
    "\n",
    "# Initialize geolocator\n",
    "geolocator = Nominatim(user_agent=\"geo_lookup\")"
   ]
  },
  {
   "cell_type": "code",
   "execution_count": 20,
   "metadata": {},
   "outputs": [],
   "source": [
    "# Function to get latitude and longitude\n",
    "def get_coordinates(location):\n",
    "    try:\n",
    "        loc = geolocator.geocode(location, timeout=10)\n",
    "        if loc:\n",
    "            return pd.Series([loc.latitude, loc.longitude])\n",
    "        else:\n",
    "            return pd.Series([None, None])\n",
    "    except GeocoderTimedOut:\n",
    "        return pd.Series([None, None])\n",
    "\n",
    "# Create a new column with city and state for lookup\n",
    "stores_df[['latitude', 'longitude']] = stores_df.apply(lambda row: get_coordinates(f\"{row['city']}, {row['state']}, Ecuador\"), axis=1)"
   ]
  },
  {
   "cell_type": "code",
   "execution_count": 23,
   "metadata": {},
   "outputs": [
    {
     "name": "stdout",
     "output_type": "stream",
     "text": [
      "Download complete: ecuador_map.json\n"
     ]
    }
   ],
   "source": [
    "import requests\n",
    "\n",
    "# URL of the JSON file\n",
    "url = \"https://cdn.jsdelivr.net/npm/latam-atlas@0.1.0/files/ecuador-tm-50k.json\"\n",
    "\n",
    "# Download and save the file\n",
    "response = requests.get(url)\n",
    "if response.status_code == 200:\n",
    "    with open(\"ecuador_map.json\", \"wb\") as file:\n",
    "        file.write(response.content)\n",
    "    print(\"Download complete: ecuador_map.json\")\n",
    "else:\n",
    "    print(\"Failed to download the file\")\n"
   ]
  },
  {
   "cell_type": "code",
   "execution_count": 32,
   "metadata": {},
   "outputs": [],
   "source": [
    "import json\n",
    "\n",
    "\n",
    "# Load the JSON file\n",
    "with open('ecuador_map.json', 'r', encoding='utf-8') as f:\n",
    "    ecuador_map = json.load(f)\n",
    "\n",
    "# Extract level 4 (parish) data\n",
    "parish_mapping = {}\n",
    "for feature in ecuador_map['objects'][list(ecuador_map['objects'].keys())[0]]['geometries']:\n",
    "    if 'properties' in feature and 'areacd' in feature['properties'] and 'areanm' in feature['properties']:\n",
    "        parish_mapping[feature['properties']['areanm'].lower()] = feature['properties']['areacd']\n",
    "\n",
    "\n",
    "# Normalize area names to lowercase for matching\n",
    "stores_df['parish_normalized'] = stores_df['city'].str.lower()\n",
    "\n",
    "# Map areacd to stores_df based on parish name\n",
    "stores_df['areacd'] = stores_df['parish_normalized'].map(parish_mapping)\n",
    "\n",
    "# Drop the normalized column\n",
    "stores_df.drop(columns=['parish_normalized'], inplace=True)\n"
   ]
  },
  {
   "cell_type": "code",
   "execution_count": null,
   "metadata": {},
   "outputs": [
    {
     "data": {
      "text/plain": [
       "array(['Santo Domingo', 'Ibarra', 'Playas', 'Libertad'], dtype=object)"
      ]
     },
     "execution_count": 36,
     "metadata": {},
     "output_type": "execute_result"
    }
   ],
   "source": [
    "# Filter cities with null areacd\n",
    "null_cities = stores_df[stores_df['areacd'].isnull()]['city'].unique()\n",
    "cities_with_null_areac"
   ]
  },
  {
   "cell_type": "code",
   "execution_count": 37,
   "metadata": {},
   "outputs": [],
   "source": [
    "# Predefined dictionary with areacd values for cities in null_cities\n",
    "areacd_mapping = {\n",
    "    'Santo Domingo': '2301',\n",
    "    'Ibarra': '100150',\n",
    "    'Playas': '092150',\n",
    "    'Libertad': '110751'\n",
    "}\n",
    "\n",
    "# Update the areacd column for cities in null_cities\n",
    "stores_df.loc[stores_df['city'].isin(cities_with_null_areacd), 'areacd'] = stores_df['city'].map(areacd_mapping)"
   ]
  },
  {
   "cell_type": "code",
   "execution_count": 39,
   "metadata": {},
   "outputs": [],
   "source": [
    "stores_df.to_csv('stores_adjusted.csv',index=False)"
   ]
  },
  {
   "cell_type": "markdown",
   "metadata": {},
   "source": [
    "<a id=\"train_table\"></a>\n",
    "### 1.3 Enhance data complexity for 'train' table"
   ]
  },
  {
   "cell_type": "code",
   "execution_count": null,
   "metadata": {},
   "outputs": [],
   "source": [
    "train['Year'] = train['date'].dt.year\n",
    "family_list = train['family'].unique().tolist()\n",
    "\n",
    "# Define the base distribution for key families\n",
    "base_distribution = {\n",
    "    \"GROCERY I\": 0.25,\n",
    "    \"BEVERAGES\": 0.15,\n",
    "    \"PRODUCE\": 0.12,\n",
    "    \"CLEANING\": 0.10,\n",
    "    \"DAIRY\": 0.08,\n",
    "}\n",
    "\n",
    "# Compute remaining probability and assign to other families\n",
    "remaining_prob = 1 - sum(base_distribution.values())\n",
    "remaining_families = [f for f in family_list if f not in base_distribution]\n",
    "\n",
    "# Function to generate yearly fluctuations\n",
    "def generate_yearly_distribution(base_distribution, remaining_families, remaining_prob, years):\n",
    "    np.random.seed(42)\n",
    "    yearly_distributions = {}\n",
    "\n",
    "    for year in years:\n",
    "        # Allow small variations in base categories (±2%)\n",
    "        fluctuating_base = {\n",
    "            family: max(0, min(1, prob + np.random.uniform(-0.02, 0.02)))\n",
    "            for family, prob in base_distribution.items()\n",
    "        }\n",
    "        total_fixed = sum(fluctuating_base.values())\n",
    "\n",
    "        # Generate new probabilities for remaining families\n",
    "        random_probs = np.random.dirichlet(np.ones(len(remaining_families))) * (1 - total_fixed)\n",
    "\n",
    "        # Merge into final yearly distribution\n",
    "        yearly_distributions[year] = fluctuating_base.copy()\n",
    "        yearly_distributions[year].update(dict(zip(remaining_families, random_probs)))\n",
    "\n",
    "    return yearly_distributions\n",
    "\n",
    "# Generate distributions for each year in the dataset\n",
    "years = sorted(train[\"Year\"].unique())\n",
    "yearly_distributions = generate_yearly_distribution(base_distribution, remaining_families, remaining_prob, years)\n",
    "\n",
    "# Function to adjust family distribution per year\n",
    "def adjust_family_distribution_by_year(df, yearly_distributions):\n",
    "    np.random.seed(42)\n",
    "    df_shuffled = df.copy()\n",
    "    df_shuffled[\"original_family\"] = df_shuffled[\"family\"]\n",
    "\n",
    "    # Reassign families per year\n",
    "    new_families = []\n",
    "    for _, row in df_shuffled.iterrows():\n",
    "        year = row[\"Year\"]  # Explicitly extract year\n",
    "        if year in yearly_distributions:\n",
    "            new_families.append(np.random.choice(\n",
    "                list(yearly_distributions[year].keys()),\n",
    "                p=list(yearly_distributions[year].values())\n",
    "            ))\n",
    "        else:\n",
    "            new_families.append(row[\"family\"])  # Fallback to original family if year is missing\n",
    "\n",
    "    df_shuffled[\"family\"] = new_families\n",
    "    return df_shuffled.drop(columns=[\"original_family\"])\n",
    "\n",
    "# Apply the improved adjustment function\n",
    "train = adjust_family_distribution_by_year(train, yearly_distributions)\n"
   ]
  },
  {
   "cell_type": "markdown",
   "metadata": {},
   "source": [
    "<a id=\"test_table\"></a>\n",
    "## 2. Extend \"test\" table for forecasting \n"
   ]
  },
  {
   "cell_type": "code",
   "execution_count": 3,
   "metadata": {},
   "outputs": [],
   "source": [
    "\n",
    "from datetime import timedelta\n",
    "\n",
    "# Load the provided CSV data\n",
    "df = pd.read_csv(\"G:/My Drive/Lily Career/Work/Portfolio/Favorita Retails - Sale Forecast/test.csv\")\n",
    "\n",
    "# Convert 'date' column to datetime objects\n",
    "df['date'] = pd.to_datetime(df['date'])\n",
    "\n",
    "\n"
   ]
  },
  {
   "cell_type": "code",
   "execution_count": 14,
   "metadata": {},
   "outputs": [],
   "source": [
    "# Identify the unique store_nbr and family combinations\n",
    "unique_combinations = df[['store_nbr', 'family']].drop_duplicates()\n",
    "\n",
    "# Determine the initial and target date ranges\n",
    "start_date = df['date'].min()\n",
    "end_date_original = df['date'].max()\n",
    "target_end_date = end_date_original + pd.DateOffset(months=12)\n",
    "\n",
    "# Create a list of all dates from the day after the last date in the original data\n",
    "# up to the target end date\n",
    "all_dates = pd.date_range(start=end_date_original + timedelta(days=1), end=target_end_date)\n"
   ]
  },
  {
   "cell_type": "markdown",
   "metadata": {},
   "source": [
    "### 2.1 Analyze the 'onpromotion' distribution "
   ]
  },
  {
   "cell_type": "code",
   "execution_count": 15,
   "metadata": {},
   "outputs": [
    {
     "data": {
      "image/png": "[encoded data removed]",
      "text/plain": [
       "<Figure size 640x480 with 1 Axes>"
      ]
     },
     "metadata": {},
     "output_type": "display_data"
    }
   ],
   "source": [
    "\n",
    "# Draw a boxplot of \n",
    "sns.boxplot(data=df, x='family', y='onpromotion')\n",
    "plt.xticks(rotation=90)  # Rotate x-axis labels for better readability\n",
    "plt.title('Boxplot of Onpromotion by Family')\n",
    "plt.show()"
   ]
  },
  {
   "cell_type": "markdown",
   "metadata": {},
   "source": [
    "### Mimic the distribution"
   ]
  },
  {
   "cell_type": "code",
   "execution_count": 16,
   "metadata": {},
   "outputs": [],
   "source": [
    "# Create a dictionary of onprotion distribution \n",
    "onpromotion_distributions = {}\n",
    "for family in df['family'].unique():\n",
    "    onpromotion_values = df[df['family'] == family]['onpromotion']\n",
    "    # Get value counts and their probabilities\n",
    "    value_counts = onpromotion_values.value_counts(normalize=True)\n",
    "    onpromotion_distributions[family] = {\n",
    "        'values': value_counts.index.tolist(),\n",
    "        'probabilities': value_counts.tolist()\n",
    "    }\n"
   ]
  },
  {
   "cell_type": "code",
   "execution_count": 17,
   "metadata": {},
   "outputs": [
    {
     "name": "stdout",
     "output_type": "stream",
     "text": [
      "Extended data with distribution-based 'onpromotion' saved to 'extended_data.csv'\n"
     ]
    }
   ],
   "source": [
    "# Create an empty list to store the new rows\n",
    "new_rows = []\n",
    "\n",
    "# Get the maximum 'id' from the original dataframe to start incrementing from\n",
    "last_id = df['id'].max()\n",
    "\n",
    "# Iterate through each new date\n",
    "for date in all_dates:\n",
    "    # For each date, iterate through all unique store_nbr and family combinations\n",
    "    for index, row in unique_combinations.iterrows():\n",
    "        last_id += 1\n",
    "        store_nbr = row['store_nbr']\n",
    "        family = row['family']\n",
    "\n",
    "        # Generate 'onpromotion' based on the analyzed distribution for the family\n",
    "        if family in onpromotion_distributions:\n",
    "            distribution = onpromotion_distributions[family]\n",
    "            onpromotion = np.random.choice(distribution['values'], p=distribution['probabilities'])\n",
    "        else:\n",
    "            # If a new family appears (unlikely with the provided data structure),\n",
    "            # generate a default random value\n",
    "            onpromotion = np.random.randint(0, 10)\n",
    "\n",
    "        new_rows.append({\n",
    "            'id': last_id,\n",
    "            'date': date,\n",
    "            'store_nbr': store_nbr,\n",
    "            'family': family,\n",
    "            'onpromotion': onpromotion\n",
    "        })\n",
    "\n",
    "# Create a new DataFrame from the generated rows\n",
    "new_df = pd.DataFrame(new_rows)\n",
    "\n",
    "# Concatenate the original DataFrame with the new DataFrame\n",
    "extended_df = pd.concat([df, new_df], ignore_index=True)\n",
    "\n",
    "# Sort the extended DataFrame by date and then by id to maintain order\n",
    "extended_df = extended_df.sort_values(by=['date', 'id']).reset_index(drop=True)\n",
    "\n",
    "# Save the extended DataFrame to a new CSV file\n",
    "extended_df.to_csv('extended_text.csv', index=False)\n",
    "\n",
    "print(\"Extended data with distribution-based 'onpromotion' saved to 'extended_data.csv'\")"
   ]
  }
 ],
 "metadata": {
  "kernelspec": {
   "display_name": "practice",
   "language": "python",
   "name": "python3"
  },
  "language_info": {
   "codemirror_mode": {
    "name": "ipython",
    "version": 3
   },
   "file_extension": ".py",
   "mimetype": "text/x-python",
   "name": "python",
   "nbconvert_exporter": "python",
   "pygments_lexer": "ipython3",
   "version": "3.12.4"
  }
 },
 "nbformat": 4,
 "nbformat_minor": 2
}
